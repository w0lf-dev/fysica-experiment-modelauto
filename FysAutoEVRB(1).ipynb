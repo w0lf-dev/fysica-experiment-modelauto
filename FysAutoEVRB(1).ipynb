{
 "cells": [
  {
   "cell_type": "markdown",
   "id": "4fab55df-14ed-4901-be00-7c9b07184a42",
   "metadata": {
    "tags": []
   },
   "source": [
    "# fysica experiment modelauto"
   ]
  },
  {
   "cell_type": "markdown",
   "id": "b1d3ab8c-4d0d-4df7-8413-8ad52ed78c40",
   "metadata": {
    "tags": []
   },
   "source": [
    "## code"
   ]
  },
  {
   "cell_type": "markdown",
   "id": "de37bedc-ac2d-49eb-a029-83245795eb4b",
   "metadata": {
    "jp-MarkdownHeadingCollapsed": true,
    "tags": []
   },
   "source": [
    "### libs"
   ]
  },
  {
   "cell_type": "code",
   "execution_count": 1,
   "id": "f470aa42-1e8d-4858-814e-a77e32a2bb6b",
   "metadata": {
    "tags": []
   },
   "outputs": [
    {
     "data": {
      "text/html": [
       "<style>\n",
       "        .bk-notebook-logo {\n",
       "            display: block;\n",
       "            width: 20px;\n",
       "            height: 20px;\n",
       "            background-image: url(data:image/png;base64,iVBORw0KGgoAAAANSUhEUgAAABQAAAAUCAYAAACNiR0NAAAABHNCSVQICAgIfAhkiAAAAAlwSFlzAAALEgAACxIB0t1+/AAAABx0RVh0U29mdHdhcmUAQWRvYmUgRmlyZXdvcmtzIENTNui8sowAAAOkSURBVDiNjZRtaJVlGMd/1/08zzln5zjP1LWcU9N0NkN8m2CYjpgQYQXqSs0I84OLIC0hkEKoPtiH3gmKoiJDU7QpLgoLjLIQCpEsNJ1vqUOdO7ppbuec5+V+rj4ctwzd8IIbbi6u+8f1539dt3A78eXC7QizUF7gyV1fD1Yqg4JWz84yffhm0qkFqBogB9rM8tZdtwVsPUhWhGcFJngGeWrPzHm5oaMmkfEg1usvLFyc8jLRqDOMru7AyC8saQr7GG7f5fvDeH7Ej8CM66nIF+8yngt6HWaKh7k49Soy9nXurCi1o3qUbS3zWfrYeQDTB/Qj6kX6Ybhw4B+bOYoLKCC9H3Nu/leUTZ1JdRWkkn2ldcCamzrcf47KKXdAJllSlxAOkRgyHsGC/zRday5Qld9DyoM4/q/rUoy/CXh3jzOu3bHUVZeU+DEn8FInkPBFlu3+nW3Nw0mk6vCDiWg8CeJaxEwuHS3+z5RgY+YBR6V1Z1nxSOfoaPa4LASWxxdNp+VWTk7+4vzaou8v8PN+xo+KY2xsw6une2frhw05CTYOmQvsEhjhWjn0bmXPjpE1+kplmmkP3suftwTubK9Vq22qKmrBhpY4jvd5afdRA3wGjFAgcnTK2s4hY0/GPNIb0nErGMCRxWOOX64Z8RAC4oCXdklmEvcL8o0BfkNK4lUg9HTl+oPlQxdNo3Mg4Nv175e/1LDGzZen30MEjRUtmXSfiTVu1kK8W4txyV6BMKlbgk3lMwYCiusNy9fVfvvwMxv8Ynl6vxoByANLTWplvuj/nF9m2+PDtt1eiHPBr1oIfhCChQMBw6Aw0UulqTKZdfVvfG7VcfIqLG9bcldL/+pdWTLxLUy8Qq38heUIjh4XlzZxzQm19lLFlr8vdQ97rjZVOLf8nclzckbcD4wxXMidpX30sFd37Fv/GtwwhzhxGVAprjbg0gCAEeIgwCZyTV2Z1REEW8O4py0wsjeloKoMr6iCY6dP92H6Vw/oTyICIthibxjm/DfN9lVz8IqtqKYLUXfoKVMVQVVJOElGjrnnUt9T9wbgp8AyYKaGlqingHZU/uG2NTZSVqwHQTWkx9hxjkpWDaCg6Ckj5qebgBVbT3V3NNXMSiWSDdGV3hrtzla7J+duwPOToIg42ChPQOQjspnSlp1V+Gjdged7+8UN5CRAV7a5EdFNwCjEaBR27b3W890TE7g24NAP/mMDXRWrGoFPQI9ls/MWO2dWFAar/xcOIImbbpA3zgAAAABJRU5ErkJggg==);\n",
       "        }\n",
       "    </style>\n",
       "    <div>\n",
       "        <a href=\"https://bokeh.org\" target=\"_blank\" class=\"bk-notebook-logo\"></a>\n",
       "        <span id=\"p1001\">Loading BokehJS ...</span>\n",
       "    </div>\n"
      ]
     },
     "metadata": {},
     "output_type": "display_data"
    },
    {
     "data": {
      "application/javascript": [
       "(function(root) {\n",
       "  function now() {\n",
       "    return new Date();\n",
       "  }\n",
       "\n",
       "  const force = true;\n",
       "\n",
       "  if (typeof root._bokeh_onload_callbacks === \"undefined\" || force === true) {\n",
       "    root._bokeh_onload_callbacks = [];\n",
       "    root._bokeh_is_loading = undefined;\n",
       "  }\n",
       "\n",
       "const JS_MIME_TYPE = 'application/javascript';\n",
       "  const HTML_MIME_TYPE = 'text/html';\n",
       "  const EXEC_MIME_TYPE = 'application/vnd.bokehjs_exec.v0+json';\n",
       "  const CLASS_NAME = 'output_bokeh rendered_html';\n",
       "\n",
       "  /**\n",
       "   * Render data to the DOM node\n",
       "   */\n",
       "  function render(props, node) {\n",
       "    const script = document.createElement(\"script\");\n",
       "    node.appendChild(script);\n",
       "  }\n",
       "\n",
       "  /**\n",
       "   * Handle when an output is cleared or removed\n",
       "   */\n",
       "  function handleClearOutput(event, handle) {\n",
       "    const cell = handle.cell;\n",
       "\n",
       "    const id = cell.output_area._bokeh_element_id;\n",
       "    const server_id = cell.output_area._bokeh_server_id;\n",
       "    // Clean up Bokeh references\n",
       "    if (id != null && id in Bokeh.index) {\n",
       "      Bokeh.index[id].model.document.clear();\n",
       "      delete Bokeh.index[id];\n",
       "    }\n",
       "\n",
       "    if (server_id !== undefined) {\n",
       "      // Clean up Bokeh references\n",
       "      const cmd_clean = \"from bokeh.io.state import curstate; print(curstate().uuid_to_server['\" + server_id + \"'].get_sessions()[0].document.roots[0]._id)\";\n",
       "      cell.notebook.kernel.execute(cmd_clean, {\n",
       "        iopub: {\n",
       "          output: function(msg) {\n",
       "            const id = msg.content.text.trim();\n",
       "            if (id in Bokeh.index) {\n",
       "              Bokeh.index[id].model.document.clear();\n",
       "              delete Bokeh.index[id];\n",
       "            }\n",
       "          }\n",
       "        }\n",
       "      });\n",
       "      // Destroy server and session\n",
       "      const cmd_destroy = \"import bokeh.io.notebook as ion; ion.destroy_server('\" + server_id + \"')\";\n",
       "      cell.notebook.kernel.execute(cmd_destroy);\n",
       "    }\n",
       "  }\n",
       "\n",
       "  /**\n",
       "   * Handle when a new output is added\n",
       "   */\n",
       "  function handleAddOutput(event, handle) {\n",
       "    const output_area = handle.output_area;\n",
       "    const output = handle.output;\n",
       "\n",
       "    // limit handleAddOutput to display_data with EXEC_MIME_TYPE content only\n",
       "    if ((output.output_type != \"display_data\") || (!Object.prototype.hasOwnProperty.call(output.data, EXEC_MIME_TYPE))) {\n",
       "      return\n",
       "    }\n",
       "\n",
       "    const toinsert = output_area.element.find(\".\" + CLASS_NAME.split(' ')[0]);\n",
       "\n",
       "    if (output.metadata[EXEC_MIME_TYPE][\"id\"] !== undefined) {\n",
       "      toinsert[toinsert.length - 1].firstChild.textContent = output.data[JS_MIME_TYPE];\n",
       "      // store reference to embed id on output_area\n",
       "      output_area._bokeh_element_id = output.metadata[EXEC_MIME_TYPE][\"id\"];\n",
       "    }\n",
       "    if (output.metadata[EXEC_MIME_TYPE][\"server_id\"] !== undefined) {\n",
       "      const bk_div = document.createElement(\"div\");\n",
       "      bk_div.innerHTML = output.data[HTML_MIME_TYPE];\n",
       "      const script_attrs = bk_div.children[0].attributes;\n",
       "      for (let i = 0; i < script_attrs.length; i++) {\n",
       "        toinsert[toinsert.length - 1].firstChild.setAttribute(script_attrs[i].name, script_attrs[i].value);\n",
       "        toinsert[toinsert.length - 1].firstChild.textContent = bk_div.children[0].textContent\n",
       "      }\n",
       "      // store reference to server id on output_area\n",
       "      output_area._bokeh_server_id = output.metadata[EXEC_MIME_TYPE][\"server_id\"];\n",
       "    }\n",
       "  }\n",
       "\n",
       "  function register_renderer(events, OutputArea) {\n",
       "\n",
       "    function append_mime(data, metadata, element) {\n",
       "      // create a DOM node to render to\n",
       "      const toinsert = this.create_output_subarea(\n",
       "        metadata,\n",
       "        CLASS_NAME,\n",
       "        EXEC_MIME_TYPE\n",
       "      );\n",
       "      this.keyboard_manager.register_events(toinsert);\n",
       "      // Render to node\n",
       "      const props = {data: data, metadata: metadata[EXEC_MIME_TYPE]};\n",
       "      render(props, toinsert[toinsert.length - 1]);\n",
       "      element.append(toinsert);\n",
       "      return toinsert\n",
       "    }\n",
       "\n",
       "    /* Handle when an output is cleared or removed */\n",
       "    events.on('clear_output.CodeCell', handleClearOutput);\n",
       "    events.on('delete.Cell', handleClearOutput);\n",
       "\n",
       "    /* Handle when a new output is added */\n",
       "    events.on('output_added.OutputArea', handleAddOutput);\n",
       "\n",
       "    /**\n",
       "     * Register the mime type and append_mime function with output_area\n",
       "     */\n",
       "    OutputArea.prototype.register_mime_type(EXEC_MIME_TYPE, append_mime, {\n",
       "      /* Is output safe? */\n",
       "      safe: true,\n",
       "      /* Index of renderer in `output_area.display_order` */\n",
       "      index: 0\n",
       "    });\n",
       "  }\n",
       "\n",
       "  // register the mime type if in Jupyter Notebook environment and previously unregistered\n",
       "  if (root.Jupyter !== undefined) {\n",
       "    const events = require('base/js/events');\n",
       "    const OutputArea = require('notebook/js/outputarea').OutputArea;\n",
       "\n",
       "    if (OutputArea.prototype.mime_types().indexOf(EXEC_MIME_TYPE) == -1) {\n",
       "      register_renderer(events, OutputArea);\n",
       "    }\n",
       "  }\n",
       "  if (typeof (root._bokeh_timeout) === \"undefined\" || force === true) {\n",
       "    root._bokeh_timeout = Date.now() + 5000;\n",
       "    root._bokeh_failed_load = false;\n",
       "  }\n",
       "\n",
       "  const NB_LOAD_WARNING = {'data': {'text/html':\n",
       "     \"<div style='background-color: #fdd'>\\n\"+\n",
       "     \"<p>\\n\"+\n",
       "     \"BokehJS does not appear to have successfully loaded. If loading BokehJS from CDN, this \\n\"+\n",
       "     \"may be due to a slow or bad network connection. Possible fixes:\\n\"+\n",
       "     \"</p>\\n\"+\n",
       "     \"<ul>\\n\"+\n",
       "     \"<li>re-rerun `output_notebook()` to attempt to load from CDN again, or</li>\\n\"+\n",
       "     \"<li>use INLINE resources instead, as so:</li>\\n\"+\n",
       "     \"</ul>\\n\"+\n",
       "     \"<code>\\n\"+\n",
       "     \"from bokeh.resources import INLINE\\n\"+\n",
       "     \"output_notebook(resources=INLINE)\\n\"+\n",
       "     \"</code>\\n\"+\n",
       "     \"</div>\"}};\n",
       "\n",
       "  function display_loaded() {\n",
       "    const el = document.getElementById(\"p1001\");\n",
       "    if (el != null) {\n",
       "      el.textContent = \"BokehJS is loading...\";\n",
       "    }\n",
       "    if (root.Bokeh !== undefined) {\n",
       "      if (el != null) {\n",
       "        el.textContent = \"BokehJS \" + root.Bokeh.version + \" successfully loaded.\";\n",
       "      }\n",
       "    } else if (Date.now() < root._bokeh_timeout) {\n",
       "      setTimeout(display_loaded, 100)\n",
       "    }\n",
       "  }\n",
       "\n",
       "  function run_callbacks() {\n",
       "    try {\n",
       "      root._bokeh_onload_callbacks.forEach(function(callback) {\n",
       "        if (callback != null)\n",
       "          callback();\n",
       "      });\n",
       "    } finally {\n",
       "      delete root._bokeh_onload_callbacks\n",
       "    }\n",
       "    console.debug(\"Bokeh: all callbacks have finished\");\n",
       "  }\n",
       "\n",
       "  function load_libs(css_urls, js_urls, callback) {\n",
       "    if (css_urls == null) css_urls = [];\n",
       "    if (js_urls == null) js_urls = [];\n",
       "\n",
       "    root._bokeh_onload_callbacks.push(callback);\n",
       "    if (root._bokeh_is_loading > 0) {\n",
       "      console.debug(\"Bokeh: BokehJS is being loaded, scheduling callback at\", now());\n",
       "      return null;\n",
       "    }\n",
       "    if (js_urls == null || js_urls.length === 0) {\n",
       "      run_callbacks();\n",
       "      return null;\n",
       "    }\n",
       "    console.debug(\"Bokeh: BokehJS not loaded, scheduling load and callback at\", now());\n",
       "    root._bokeh_is_loading = css_urls.length + js_urls.length;\n",
       "\n",
       "    function on_load() {\n",
       "      root._bokeh_is_loading--;\n",
       "      if (root._bokeh_is_loading === 0) {\n",
       "        console.debug(\"Bokeh: all BokehJS libraries/stylesheets loaded\");\n",
       "        run_callbacks()\n",
       "      }\n",
       "    }\n",
       "\n",
       "    function on_error(url) {\n",
       "      console.error(\"failed to load \" + url);\n",
       "    }\n",
       "\n",
       "    for (let i = 0; i < css_urls.length; i++) {\n",
       "      const url = css_urls[i];\n",
       "      const element = document.createElement(\"link\");\n",
       "      element.onload = on_load;\n",
       "      element.onerror = on_error.bind(null, url);\n",
       "      element.rel = \"stylesheet\";\n",
       "      element.type = \"text/css\";\n",
       "      element.href = url;\n",
       "      console.debug(\"Bokeh: injecting link tag for BokehJS stylesheet: \", url);\n",
       "      document.body.appendChild(element);\n",
       "    }\n",
       "\n",
       "    for (let i = 0; i < js_urls.length; i++) {\n",
       "      const url = js_urls[i];\n",
       "      const element = document.createElement('script');\n",
       "      element.onload = on_load;\n",
       "      element.onerror = on_error.bind(null, url);\n",
       "      element.async = false;\n",
       "      element.src = url;\n",
       "      console.debug(\"Bokeh: injecting script tag for BokehJS library: \", url);\n",
       "      document.head.appendChild(element);\n",
       "    }\n",
       "  };\n",
       "\n",
       "  function inject_raw_css(css) {\n",
       "    const element = document.createElement(\"style\");\n",
       "    element.appendChild(document.createTextNode(css));\n",
       "    document.body.appendChild(element);\n",
       "  }\n",
       "\n",
       "  const js_urls = [\"https://cdn.bokeh.org/bokeh/release/bokeh-3.1.0.min.js\", \"https://cdn.bokeh.org/bokeh/release/bokeh-gl-3.1.0.min.js\", \"https://cdn.bokeh.org/bokeh/release/bokeh-widgets-3.1.0.min.js\", \"https://cdn.bokeh.org/bokeh/release/bokeh-tables-3.1.0.min.js\", \"https://cdn.bokeh.org/bokeh/release/bokeh-mathjax-3.1.0.min.js\"];\n",
       "  const css_urls = [];\n",
       "\n",
       "  const inline_js = [    function(Bokeh) {\n",
       "      Bokeh.set_log_level(\"info\");\n",
       "    },\n",
       "function(Bokeh) {\n",
       "    }\n",
       "  ];\n",
       "\n",
       "  function run_inline_js() {\n",
       "    if (root.Bokeh !== undefined || force === true) {\n",
       "          for (let i = 0; i < inline_js.length; i++) {\n",
       "      inline_js[i].call(root, root.Bokeh);\n",
       "    }\n",
       "if (force === true) {\n",
       "        display_loaded();\n",
       "      }} else if (Date.now() < root._bokeh_timeout) {\n",
       "      setTimeout(run_inline_js, 100);\n",
       "    } else if (!root._bokeh_failed_load) {\n",
       "      console.log(\"Bokeh: BokehJS failed to load within specified timeout.\");\n",
       "      root._bokeh_failed_load = true;\n",
       "    } else if (force !== true) {\n",
       "      const cell = $(document.getElementById(\"p1001\")).parents('.cell').data().cell;\n",
       "      cell.output_area.append_execute_result(NB_LOAD_WARNING)\n",
       "    }\n",
       "  }\n",
       "\n",
       "  if (root._bokeh_is_loading === 0) {\n",
       "    console.debug(\"Bokeh: BokehJS loaded, going straight to plotting\");\n",
       "    run_inline_js();\n",
       "  } else {\n",
       "    load_libs(css_urls, js_urls, function() {\n",
       "      console.debug(\"Bokeh: BokehJS plotting callback run at\", now());\n",
       "      run_inline_js();\n",
       "    });\n",
       "  }\n",
       "}(window));"
      ],
      "application/vnd.bokehjs_load.v0+json": "(function(root) {\n  function now() {\n    return new Date();\n  }\n\n  const force = true;\n\n  if (typeof root._bokeh_onload_callbacks === \"undefined\" || force === true) {\n    root._bokeh_onload_callbacks = [];\n    root._bokeh_is_loading = undefined;\n  }\n\n\n  if (typeof (root._bokeh_timeout) === \"undefined\" || force === true) {\n    root._bokeh_timeout = Date.now() + 5000;\n    root._bokeh_failed_load = false;\n  }\n\n  const NB_LOAD_WARNING = {'data': {'text/html':\n     \"<div style='background-color: #fdd'>\\n\"+\n     \"<p>\\n\"+\n     \"BokehJS does not appear to have successfully loaded. If loading BokehJS from CDN, this \\n\"+\n     \"may be due to a slow or bad network connection. Possible fixes:\\n\"+\n     \"</p>\\n\"+\n     \"<ul>\\n\"+\n     \"<li>re-rerun `output_notebook()` to attempt to load from CDN again, or</li>\\n\"+\n     \"<li>use INLINE resources instead, as so:</li>\\n\"+\n     \"</ul>\\n\"+\n     \"<code>\\n\"+\n     \"from bokeh.resources import INLINE\\n\"+\n     \"output_notebook(resources=INLINE)\\n\"+\n     \"</code>\\n\"+\n     \"</div>\"}};\n\n  function display_loaded() {\n    const el = document.getElementById(\"p1001\");\n    if (el != null) {\n      el.textContent = \"BokehJS is loading...\";\n    }\n    if (root.Bokeh !== undefined) {\n      if (el != null) {\n        el.textContent = \"BokehJS \" + root.Bokeh.version + \" successfully loaded.\";\n      }\n    } else if (Date.now() < root._bokeh_timeout) {\n      setTimeout(display_loaded, 100)\n    }\n  }\n\n  function run_callbacks() {\n    try {\n      root._bokeh_onload_callbacks.forEach(function(callback) {\n        if (callback != null)\n          callback();\n      });\n    } finally {\n      delete root._bokeh_onload_callbacks\n    }\n    console.debug(\"Bokeh: all callbacks have finished\");\n  }\n\n  function load_libs(css_urls, js_urls, callback) {\n    if (css_urls == null) css_urls = [];\n    if (js_urls == null) js_urls = [];\n\n    root._bokeh_onload_callbacks.push(callback);\n    if (root._bokeh_is_loading > 0) {\n      console.debug(\"Bokeh: BokehJS is being loaded, scheduling callback at\", now());\n      return null;\n    }\n    if (js_urls == null || js_urls.length === 0) {\n      run_callbacks();\n      return null;\n    }\n    console.debug(\"Bokeh: BokehJS not loaded, scheduling load and callback at\", now());\n    root._bokeh_is_loading = css_urls.length + js_urls.length;\n\n    function on_load() {\n      root._bokeh_is_loading--;\n      if (root._bokeh_is_loading === 0) {\n        console.debug(\"Bokeh: all BokehJS libraries/stylesheets loaded\");\n        run_callbacks()\n      }\n    }\n\n    function on_error(url) {\n      console.error(\"failed to load \" + url);\n    }\n\n    for (let i = 0; i < css_urls.length; i++) {\n      const url = css_urls[i];\n      const element = document.createElement(\"link\");\n      element.onload = on_load;\n      element.onerror = on_error.bind(null, url);\n      element.rel = \"stylesheet\";\n      element.type = \"text/css\";\n      element.href = url;\n      console.debug(\"Bokeh: injecting link tag for BokehJS stylesheet: \", url);\n      document.body.appendChild(element);\n    }\n\n    for (let i = 0; i < js_urls.length; i++) {\n      const url = js_urls[i];\n      const element = document.createElement('script');\n      element.onload = on_load;\n      element.onerror = on_error.bind(null, url);\n      element.async = false;\n      element.src = url;\n      console.debug(\"Bokeh: injecting script tag for BokehJS library: \", url);\n      document.head.appendChild(element);\n    }\n  };\n\n  function inject_raw_css(css) {\n    const element = document.createElement(\"style\");\n    element.appendChild(document.createTextNode(css));\n    document.body.appendChild(element);\n  }\n\n  const js_urls = [\"https://cdn.bokeh.org/bokeh/release/bokeh-3.1.0.min.js\", \"https://cdn.bokeh.org/bokeh/release/bokeh-gl-3.1.0.min.js\", \"https://cdn.bokeh.org/bokeh/release/bokeh-widgets-3.1.0.min.js\", \"https://cdn.bokeh.org/bokeh/release/bokeh-tables-3.1.0.min.js\", \"https://cdn.bokeh.org/bokeh/release/bokeh-mathjax-3.1.0.min.js\"];\n  const css_urls = [];\n\n  const inline_js = [    function(Bokeh) {\n      Bokeh.set_log_level(\"info\");\n    },\nfunction(Bokeh) {\n    }\n  ];\n\n  function run_inline_js() {\n    if (root.Bokeh !== undefined || force === true) {\n          for (let i = 0; i < inline_js.length; i++) {\n      inline_js[i].call(root, root.Bokeh);\n    }\nif (force === true) {\n        display_loaded();\n      }} else if (Date.now() < root._bokeh_timeout) {\n      setTimeout(run_inline_js, 100);\n    } else if (!root._bokeh_failed_load) {\n      console.log(\"Bokeh: BokehJS failed to load within specified timeout.\");\n      root._bokeh_failed_load = true;\n    } else if (force !== true) {\n      const cell = $(document.getElementById(\"p1001\")).parents('.cell').data().cell;\n      cell.output_area.append_execute_result(NB_LOAD_WARNING)\n    }\n  }\n\n  if (root._bokeh_is_loading === 0) {\n    console.debug(\"Bokeh: BokehJS loaded, going straight to plotting\");\n    run_inline_js();\n  } else {\n    load_libs(css_urls, js_urls, function() {\n      console.debug(\"Bokeh: BokehJS plotting callback run at\", now());\n      run_inline_js();\n    });\n  }\n}(window));"
     },
     "metadata": {},
     "output_type": "display_data"
    }
   ],
   "source": [
    "#low-level\n",
    "import os\n",
    "import itertools\n",
    "import warnings\n",
    "\n",
    "#math\n",
    "import math\n",
    "import pandas as pd\n",
    "import numpy as np\n",
    "from scipy.optimize import curve_fit\n",
    "\n",
    "#rendering\n",
    "import matplotlib.pyplot as plt\n",
    "\n",
    "import bokeh\n",
    "from bokeh.plotting import figure, show\n",
    "from bokeh.models import HoverTool, ColumnDataSource\n",
    "from bokeh.io import output_notebook\n",
    "from bokeh.palettes import Category20\n",
    "from bokeh.transform import linear_cmap\n",
    "from bokeh.util.hex import hexbin\n",
    "\n",
    "import ipywidgets as widgets\n",
    "from IPython.display import display, IFrame, Markdown, Video, Math\n",
    "from ipywidgets import Tab, HBox,VBox\n",
    "\n",
    "import sympy as sym   #latexformatter\n",
    "from sympy import Matrix\n",
    "\n",
    "output_notebook()\n",
    "\n",
    "#SHEET LINK\n",
    "SHEET = 'https://docs.google.com/spreadsheets/d/e/2PACX-1vQktlNgJ3k3vPL3pqmdAEEfqjSIBkk37wvb8J8NlhUjhcs0t9gm69-Q0YUNmlb0PcHGW-4QUMxORlgo'\n",
    "warnings.filterwarnings('ignore')"
   ]
  },
  {
   "cell_type": "markdown",
   "id": "93e76918-0cb8-4acd-95fe-8bfe70b2276d",
   "metadata": {
    "jp-MarkdownHeadingCollapsed": true,
    "tags": []
   },
   "source": [
    "### rendering backend"
   ]
  },
  {
   "cell_type": "code",
   "execution_count": 2,
   "id": "f1830255-4f29-487a-bf98-975c4ad90749",
   "metadata": {},
   "outputs": [],
   "source": [
    "def intab(widgets, names): \n",
    "    tab = widgets.Tab(children=widgets)\n",
    "    for i, name in enumerate(names):\n",
    "        tab.set_title(i, 'name')\n",
    "        \n",
    "\n",
    "folder_path = './vids/'\n",
    "video_files = os.listdir(folder_path)\n",
    "\n",
    "#dropdown widget\n",
    "video_dropdown = widgets.Dropdown(\n",
    "    options=video_files,\n",
    "    description='Select video:',\n",
    "    value=video_files[0]\n",
    ")\n",
    "\n",
    "#display video functie\n",
    "def display_video(filename):\n",
    "    video_path = folder_path + filename\n",
    "    display(Video(video_path, width=400))\n",
    "\n",
    "#interactieve widget\n",
    "video_interactive = widgets.interactive(\n",
    "    display_video, filename=video_dropdown\n",
    ")"
   ]
  },
  {
   "cell_type": "markdown",
   "id": "0337b587-6d7f-410c-ada0-65ef4dbae737",
   "metadata": {
    "tags": []
   },
   "source": [
    "### dataframe pre-processing"
   ]
  },
  {
   "cell_type": "code",
   "execution_count": 3,
   "id": "001a4968-1e1b-43d8-ad7c-41c712c5679c",
   "metadata": {},
   "outputs": [],
   "source": [
    "#dataframe pre-processing\n",
    "df = pd.read_csv(SHEET + '/pub?gid=0&single=true&output=csv', decimal=\",\")\n",
    "\n",
    "def convert_data_types(df, col_data_types):\n",
    "    for col, data_type in col_data_types.items():\n",
    "        if '-' in col:\n",
    "            start, end = col.split('-')\n",
    "            cols = df.loc[:, start:end].columns\n",
    "            df[cols] = df[cols].astype(data_type)\n",
    "        else:\n",
    "            try:\n",
    "                df[col] = df[col].astype(data_type)\n",
    "            except ValueError:\n",
    "                # handle empty cells\n",
    "                df[col] = pd.to_numeric(df[col], errors='coerce').astype(data_type)\n",
    "                \n",
    "convert_data_types(df, {'testID': str, 'vidID': str, 'graden': float, 't0-t40': float})"
   ]
  },
  {
   "cell_type": "markdown",
   "id": "86cb116c-9e2b-4845-b6d2-4f6f85112fee",
   "metadata": {
    "tags": []
   },
   "source": [
    "### math"
   ]
  },
  {
   "cell_type": "code",
   "execution_count": 4,
   "id": "3ff0b8f8-9f29-4300-9e1f-4c51ae690778",
   "metadata": {},
   "outputs": [],
   "source": [
    "def Flex_Exponent(x, a, b, c):\n",
    "    return a * np.exp(-b * x) + c\n",
    "\n",
    "def Flex_Sin(x, a, b, c, d):\n",
    "    return a * np.sin(b * np.radians(x) + c) + d\n",
    "    \n",
    "def Fit_Exponent(x_data, y_data):\n",
    "    #initial guess\n",
    "    p0 = (y_data[0], 1, y_data[-1])\n",
    "    #regressie\n",
    "    return curve_fit(Flex_Exponent, x_data, y_data, p0=p0)"
   ]
  },
  {
   "cell_type": "markdown",
   "id": "786515cd-4eed-4039-8f0e-e4f0d5043ee0",
   "metadata": {
    "jp-MarkdownHeadingCollapsed": true,
    "tags": []
   },
   "source": [
    "### plots backend"
   ]
  },
  {
   "cell_type": "code",
   "execution_count": 5,
   "id": "f529095d-3c71-42b9-8ba7-ee0187e070a5",
   "metadata": {},
   "outputs": [],
   "source": [
    "def print_matrix(array):\n",
    "    matrix = ''\n",
    "    for row in array:\n",
    "        try:\n",
    "            for number in row:\n",
    "                matrix += f'{number}&'\n",
    "        except TypeError:\n",
    "            matrix += f'{row}&'\n",
    "        matrix = matrix[:-1] + r'\\\\'\n",
    "    display(Math(r'\\begin{bmatrix}'+matrix+r'\\end{bmatrix}'))\n",
    "    \n",
    "def DfPlot(idf):\n",
    "    source = ColumnDataSource(idf)\n",
    "    p = figure(title='Test Results', x_axis_label='graden', y_axis_label='Time')\n",
    "    p.scatter(x='graden', y='t40', size=10, source=source, color='blue', legend_label='t40')\n",
    "    p.scatter(x='graden', y='t80', size=10, source=source, color='red', legend_label='t80')\n",
    "    p.legend.location = 'top_right'\n",
    "    # Add hover tool to show metadata on hover\n",
    "    p.add_tools(HoverTool(tooltips=[\n",
    "            ('Test ID', '@testID'),\n",
    "            ('Video ID', '@vidID')]))\n",
    "    show(p)\n",
    "    \n",
    "\n",
    "def Plot_FitExponent(popt, pcov, x_data, y_data):\n",
    "    #x_data = df['graden'].to_numpy()\n",
    "    #y_data = df['t40'].to_numpy()\n",
    "    #popt, pcov = Fit_Exponent(x_data, y_data)\n",
    "\n",
    "    plt.scatter(x_data, y_data, label='Data')\n",
    "    plt.plot(range(60), [Flex_Exponent(i, popt[0], popt[1], popt[2]) for i in range(60)], label='Fit', color='Red')\n",
    "    plt.legend()\n",
    "    plt.show()\n",
    "    \n",
    "    \n",
    "def Tex_FitExponent(popt, pcov, x_data, y_data):\n",
    "    #truncated\n",
    "    a_trunc = np.round(popt[0], 2)\n",
    "    b_trunc = np.round(popt[1], 2)\n",
    "    c_trunc = np.round(popt[2], 2)\n",
    "    display(Markdown(f\"$f(x) = {{ a \\cdot e^{{-b \\cdot x}} }} + c$\"))\n",
    "    display(Markdown(f\"$f(x) = {{ {a_trunc} \\cdot e^{{-{b_trunc} \\cdot x}} }} + {c_trunc}$\"))\n",
    "    display(Markdown(f\"covariatie matrix\"))\n",
    "    print_matrix(pcov)\n",
    "\n",
    "    \n",
    "def Plot_FitSin(popt, pcov, x_data, y_data):\n",
    "    #x_data = df['graden'].to_numpy()\n",
    "    #y_data = df['t40'].to_numpy()\n",
    "    #popt, pcov = Fit_Exponent(x_data, y_data)\n",
    "    \n",
    "    x_data = np.arange(60)\n",
    "    y_data = [Flex_Exponent(i, popt[0], popt[1], popt[2]) for i in range(60)]\n",
    "    p0=(1, 1, -np.pi, 1.25)\n",
    "    plt.plot(x_data, y_data, label='Data')\n",
    "    plt.plot(range(380), Flex_Sin(range(380), *p0), label='P0')\n",
    "    plt.legend()\n",
    "    plt.show()"
   ]
  },
  {
   "cell_type": "markdown",
   "id": "990ca8ac-b807-4f1f-a4ee-23d9c11553d9",
   "metadata": {
    "tags": []
   },
   "source": [
    "## uitleg"
   ]
  },
  {
   "cell_type": "markdown",
   "id": "f19c8180-e0ca-4558-9229-f182c9e13efe",
   "metadata": {
    "jp-MarkdownHeadingCollapsed": true,
    "tags": []
   },
   "source": [
    "#### beschrijvig experiment:\n",
    "Het experiment was gericht op het onderzoeken van het effect van verschillende hellingshoeken op de verstreken tijd die een modelauto nodig heeft om over een baan te rollen. Om dit te bereiken, werden zes verschillende hellingshoeken (10°, 20°, 30°, 40°, 50° en 60°) getest, en voor elke hoek werden drie proeven uitgevoerd om de betrouwbaarheid van de gegevens te waarborgen.\n",
    "\n",
    "#### protocol: \n",
    "Tijdens het experiment werd de modelauto vanaf een vast startpunt boven aan de helling losgelaten en kon vrij over de baan rollen. De verstreken tijd werd geregistreerd toen de auto specifieke afstanden passeerde (0, 10, 20, 30, 40, 50, 60, 70 en 80 centimeter). Deze afstanden zijn gekozen om de gemiddelde snelheid van de auto op verschillende punten langs de helling vast te leggen. Hiervoor gebruiken we een combinatie van automatishe beelverwerking (met opencomputer vision, kinovea) en manuele herziening.\n",
    "We proberen ervoor te zorgen dat de modelauto word losgelaten op exact $T_0$ met $v(0)=0$ en $a(0)=0$\n",
    "\n",
    "<figure><img src=\"files/tracing_demo.jpg\" width=\"100\"/><figcaption>Fig.1 visualistaie van de data verzameld door het Kinovea + OpenCV proces.</figcaption></figure> \n",
    "\n",
    "Het moet wel vermeld worden dat het traject van de modelauto tijdens de experimenten mogelijk niet perfect recht was. Als zodanig kunnen er onnauwkeurigheden in de gegevens zijn als gevolg van de afwijking van de auto van het beoogde pad. We hebben enkele correcties hiervoor toegepast. Dusalnietemin is de data door onze herhaling nogsteeds reflectief van de werkelijkheid.\n",
    "\n",
    "#### Concluderend: \n",
    "dit experiment toont de relatie tussen de hellingshoek en de verstreken tijd voor een model auto die over een baan rolt. Over het algemeen geven de bevindingen aan dat <mark>steilere hellingen resulteren in snellere verstreken tijden</mark>. Wij varwachte dat de relatie tussen de hoek en de verstreken tijden een sin als factor zou hebben aangezien dit een factor was in ons hypothetis model; maar <mark>de relatie tussen de hoek en de versteken tijden is exponetieel</mark>. De gegevens laten een significante afname van de verstreken tijd zien naarmate de hellingshoek toeneemt van 10° tot 60°. De resultaten tonen ook dat de <mark>versnelling</mark> van de auto snel toeneemt in de beginfasen van de helling, maar geleidelijk afneemt naarmate hij de bodem nadert. <mark>De relatie tussen de positie en tijd is dus logarithmisch</mark>.\n"
   ]
  },
  {
   "cell_type": "markdown",
   "id": "7cd13866-76d4-4d18-aad6-e7c5ba1483f0",
   "metadata": {
    "tags": []
   },
   "source": [
    "### data"
   ]
  },
  {
   "cell_type": "code",
   "execution_count": 6,
   "id": "a97c9ade-2e8a-4e25-b30b-55a497f54f28",
   "metadata": {
    "tags": []
   },
   "outputs": [
    {
     "data": {
      "application/vnd.jupyter.widget-view+json": {
       "model_id": "3fb8cbee7d5f45b3addc0c1810c2db8c",
       "version_major": 2,
       "version_minor": 0
      },
      "text/plain": [
       "Tab(children=(Output(), Output(), Output(), VBox(children=(interactive(children=(Dropdown(description='Select …"
      ]
     },
     "metadata": {},
     "output_type": "display_data"
    },
    {
     "data": {
      "text/html": [
       "\n",
       "  <div id=\"923bc527-9b1f-42c0-809b-628a148db680\" data-root-id=\"p1005\" style=\"display: contents;\"></div>\n"
      ]
     },
     "metadata": {},
     "output_type": "display_data"
    },
    {
     "data": {
      "application/javascript": [
       "(function(root) {\n",
       "  function embed_document(root) {\n",
       "  const docs_json = {\"94a9e38b-f96a-4564-ae71-2aefba40bb6e\":{\"version\":\"3.1.0\",\"title\":\"Bokeh Application\",\"defs\":[],\"roots\":[{\"type\":\"object\",\"name\":\"Figure\",\"id\":\"p1005\",\"attributes\":{\"x_range\":{\"type\":\"object\",\"name\":\"DataRange1d\",\"id\":\"p1006\"},\"y_range\":{\"type\":\"object\",\"name\":\"DataRange1d\",\"id\":\"p1007\"},\"x_scale\":{\"type\":\"object\",\"name\":\"LinearScale\",\"id\":\"p1019\"},\"y_scale\":{\"type\":\"object\",\"name\":\"LinearScale\",\"id\":\"p1021\"},\"title\":{\"type\":\"object\",\"name\":\"Title\",\"id\":\"p1008\",\"attributes\":{\"text\":\"Test Results\"}},\"renderers\":[{\"type\":\"object\",\"name\":\"GlyphRenderer\",\"id\":\"p1058\",\"attributes\":{\"data_source\":{\"type\":\"object\",\"name\":\"ColumnDataSource\",\"id\":\"p1002\",\"attributes\":{\"selected\":{\"type\":\"object\",\"name\":\"Selection\",\"id\":\"p1004\",\"attributes\":{\"indices\":[],\"line_indices\":[]}},\"selection_policy\":{\"type\":\"object\",\"name\":\"UnionRenderers\",\"id\":\"p1003\"},\"data\":{\"type\":\"map\",\"entries\":[[\"index\",{\"type\":\"ndarray\",\"array\":{\"type\":\"bytes\",\"data\":\"AAAAAAEAAAACAAAAAwAAAAQAAAAFAAAABgAAAAcAAAAIAAAACQAAAAoAAAALAAAADAAAAA0AAAAOAAAADwAAABAAAAARAAAA\"},\"shape\":[18],\"dtype\":\"int32\",\"order\":\"little\"}],[\"testID\",{\"type\":\"ndarray\",\"array\":[\"1.1.1\",\"1.1.2\",\"1.1.3\",\"1.2.1\",\"1.2.2\",\"1.2.3\",\"1.3.1\",\"1.3.2\",\"1.3.3\",\"1.4.1\",\"1.4.2\",\"1.4.3\",\"1.5.1\",\"1.5.2\",\"1.5.3\",\"1.6.1\",\"1.6.2\",\"1.6.3\"],\"shape\":[18],\"dtype\":\"object\",\"order\":\"little\"}],[\"vidID\",{\"type\":\"ndarray\",\"array\":[\"38\",\"39\",\"40\",\"41\",\"42\",\"43\",\"45\",\"46\",\"47\",\"48\",\"49\",\"50\",\"51\",\"52\",\"54\",\"55\",\"56\",\"59\"],\"shape\":[18],\"dtype\":\"object\",\"order\":\"little\"}],[\"graden\",{\"type\":\"ndarray\",\"array\":{\"type\":\"bytes\",\"data\":\"AAAAAAAAJEAAAAAAAAAkQAAAAAAAACRAAAAAAAAANEAAAAAAAAA0QAAAAAAAADRAAAAAAAAAPkAAAAAAAAA+QAAAAAAAAD5AAAAAAAAAREAAAAAAAABEQAAAAAAAAERAAAAAAAAASUAAAAAAAABJQAAAAAAAAElAAAAAAAAATkAAAAAAAABOQAAAAAAAAE5A\"},\"shape\":[18],\"dtype\":\"float64\",\"order\":\"little\"}],[\"t0\",{\"type\":\"ndarray\",\"array\":{\"type\":\"bytes\",\"data\":\"AAAAAAAAAAAAAAAAAAAAAAAAAAAAAAAAAAAAAAAAAAAAAAAAAAAAAAAAAAAAAAAAAAAAAAAAAAAAAAAAAAAAAAAAAAAAAAAAAAAAAAAAAAAAAAAAAAAAAAAAAAAAAAAAAAAAAAAAAAAAAAAAAAAAAAAAAAAAAAAAAAAAAAAAAAAAAAAAAAAAAAAAAAAAAAAA\"},\"shape\":[18],\"dtype\":\"float64\",\"order\":\"little\"}],[\"t10\",{\"type\":\"ndarray\",\"array\":{\"type\":\"bytes\",\"data\":\"w/UoXI/C1T9mZmZmZmbWP2ZmZmZmZtY/AAAAAAAA+H8AAAAAAAD4fwAAAAAAAPh/AAAAAAAA+H8AAAAAAAD4fwAAAAAAAPh/AAAAAAAA+H8AAAAAAAD4fwAAAAAAAPh/AAAAAAAA+H8AAAAAAAD4fwAAAAAAAPh/AAAAAAAA+H8AAAAAAAD4fwAAAAAAAPh/\"},\"shape\":[18],\"dtype\":\"float64\",\"order\":\"little\"}],[\"t20\",{\"type\":\"ndarray\",\"array\":{\"type\":\"bytes\",\"data\":\"AAAAAAAA4D+kcD0K16PgP/YoXI/C9eA/AAAAAAAA+H8AAAAAAAD4fwAAAAAAAPh/AAAAAAAA+H8AAAAAAAD4fwAAAAAAAPh/AAAAAAAA+H8AAAAAAAD4fwAAAAAAAPh/AAAAAAAA+H8AAAAAAAD4fwAAAAAAAPh/AAAAAAAA+H8AAAAAAAD4fwAAAAAAAPh/\"},\"shape\":[18],\"dtype\":\"float64\",\"order\":\"little\"}],[\"t30\",{\"type\":\"ndarray\",\"array\":{\"type\":\"bytes\",\"data\":\"KVyPwvUo5D/NzMzMzMzkP3E9CtejcOU/AAAAAAAA+H8AAAAAAAD4fwAAAAAAAPh/AAAAAAAA+H8AAAAAAAD4fwAAAAAAAPh/AAAAAAAA+H8AAAAAAAD4fwAAAAAAAPh/AAAAAAAA+H8AAAAAAAD4fwAAAAAAAPh/AAAAAAAA+H8AAAAAAAD4fwAAAAAAAPh/\"},\"shape\":[18],\"dtype\":\"float64\",\"order\":\"little\"}],[\"t40\",{\"type\":\"ndarray\",\"array\":{\"type\":\"bytes\",\"data\":\"AAAAAAAA6D9SuB6F61HoP/YoXI/C9eg/AAAAAAAA4D/2KFyPwvXgP/YoXI/C9eA/mpmZmZmZ2T89CtejcD3aPz0K16NwPdo/rkfhehSu1z+uR+F6FK7XP1K4HoXrUdg/exSuR+F61D8fhetRuB7VP3sUrkfhetQ/7FG4HoXr0T+PwvUoXI/SP4/C9Shcj9I/\"},\"shape\":[18],\"dtype\":\"float64\",\"order\":\"little\"}],[\"t50\",{\"type\":\"ndarray\",\"array\":{\"type\":\"bytes\",\"data\":\"MzMzMzMz6z/Xo3A9CtfrPylcj8L1KOw/AAAAAAAA+H8AAAAAAAD4fwAAAAAAAPh/AAAAAAAA+H8AAAAAAAD4fwAAAAAAAPh/AAAAAAAA+H8AAAAAAAD4fwAAAAAAAPh/AAAAAAAA+H8AAAAAAAD4fwAAAAAAAPh/AAAAAAAA+H8AAAAAAAD4fwAAAAAAAPh/\"},\"shape\":[18],\"dtype\":\"float64\",\"order\":\"little\"}],[\"t60\",{\"type\":\"ndarray\",\"array\":{\"type\":\"bytes\",\"data\":\"ZmZmZmZm7j8K16NwPQrvP1yPwvUoXO8/AAAAAAAA+H8AAAAAAAD4fwAAAAAAAPh/AAAAAAAA+H8AAAAAAAD4fwAAAAAAAPh/AAAAAAAA+H8AAAAAAAD4fwAAAAAAAPh/AAAAAAAA+H8AAAAAAAD4fwAAAAAAAPh/AAAAAAAA+H8AAAAAAAD4fwAAAAAAAPh/\"},\"shape\":[18],\"dtype\":\"float64\",\"order\":\"little\"}],[\"t70\",{\"type\":\"ndarray\",\"array\":{\"type\":\"bytes\",\"data\":\"exSuR+F68D/NzMzMzMzwPx+F61G4HvE/AAAAAAAA+H8AAAAAAAD4fwAAAAAAAPh/AAAAAAAA+H8AAAAAAAD4fwAAAAAAAPh/AAAAAAAA+H8AAAAAAAD4fwAAAAAAAPh/AAAAAAAA+H8AAAAAAAD4fwAAAAAAAPh/AAAAAAAA+H8AAAAAAAD4fwAAAAAAAPh/\"},\"shape\":[18],\"dtype\":\"float64\",\"order\":\"little\"}],[\"t80\",{\"type\":\"ndarray\",\"array\":{\"type\":\"bytes\",\"data\":\"mpmZmZmZ8T8UrkfhehTyP2ZmZmZmZvI/XI/C9Shc5z+kcD0K16PoPwAAAAAAAOg/j8L1KFyP4j89CtejcD3iP4/C9Shcj+I/9ihcj8L14D+kcD0K16PgP/YoXI/C9eA/zczMzMzM3D/NzMzMzMzcP3E9CtejcN0/4XoUrkfh2j+F61G4HoXbP4XrUbgehds/\"},\"shape\":[18],\"dtype\":\"float64\",\"order\":\"little\"}]]}}},\"view\":{\"type\":\"object\",\"name\":\"CDSView\",\"id\":\"p1059\",\"attributes\":{\"filter\":{\"type\":\"object\",\"name\":\"AllIndices\",\"id\":\"p1060\"}}},\"glyph\":{\"type\":\"object\",\"name\":\"Scatter\",\"id\":\"p1055\",\"attributes\":{\"x\":{\"type\":\"field\",\"field\":\"graden\"},\"y\":{\"type\":\"field\",\"field\":\"t40\"},\"size\":{\"type\":\"value\",\"value\":10},\"line_color\":{\"type\":\"value\",\"value\":\"blue\"},\"fill_color\":{\"type\":\"value\",\"value\":\"blue\"},\"hatch_color\":{\"type\":\"value\",\"value\":\"blue\"}}},\"nonselection_glyph\":{\"type\":\"object\",\"name\":\"Scatter\",\"id\":\"p1056\",\"attributes\":{\"x\":{\"type\":\"field\",\"field\":\"graden\"},\"y\":{\"type\":\"field\",\"field\":\"t40\"},\"size\":{\"type\":\"value\",\"value\":10},\"line_color\":{\"type\":\"value\",\"value\":\"blue\"},\"line_alpha\":{\"type\":\"value\",\"value\":0.1},\"fill_color\":{\"type\":\"value\",\"value\":\"blue\"},\"fill_alpha\":{\"type\":\"value\",\"value\":0.1},\"hatch_color\":{\"type\":\"value\",\"value\":\"blue\"},\"hatch_alpha\":{\"type\":\"value\",\"value\":0.1}}},\"muted_glyph\":{\"type\":\"object\",\"name\":\"Scatter\",\"id\":\"p1057\",\"attributes\":{\"x\":{\"type\":\"field\",\"field\":\"graden\"},\"y\":{\"type\":\"field\",\"field\":\"t40\"},\"size\":{\"type\":\"value\",\"value\":10},\"line_color\":{\"type\":\"value\",\"value\":\"blue\"},\"line_alpha\":{\"type\":\"value\",\"value\":0.2},\"fill_color\":{\"type\":\"value\",\"value\":\"blue\"},\"fill_alpha\":{\"type\":\"value\",\"value\":0.2},\"hatch_color\":{\"type\":\"value\",\"value\":\"blue\"},\"hatch_alpha\":{\"type\":\"value\",\"value\":0.2}}}}},{\"type\":\"object\",\"name\":\"GlyphRenderer\",\"id\":\"p1069\",\"attributes\":{\"data_source\":{\"id\":\"p1002\"},\"view\":{\"type\":\"object\",\"name\":\"CDSView\",\"id\":\"p1070\",\"attributes\":{\"filter\":{\"type\":\"object\",\"name\":\"AllIndices\",\"id\":\"p1071\"}}},\"glyph\":{\"type\":\"object\",\"name\":\"Scatter\",\"id\":\"p1066\",\"attributes\":{\"x\":{\"type\":\"field\",\"field\":\"graden\"},\"y\":{\"type\":\"field\",\"field\":\"t80\"},\"size\":{\"type\":\"value\",\"value\":10},\"line_color\":{\"type\":\"value\",\"value\":\"red\"},\"fill_color\":{\"type\":\"value\",\"value\":\"red\"},\"hatch_color\":{\"type\":\"value\",\"value\":\"red\"}}},\"nonselection_glyph\":{\"type\":\"object\",\"name\":\"Scatter\",\"id\":\"p1067\",\"attributes\":{\"x\":{\"type\":\"field\",\"field\":\"graden\"},\"y\":{\"type\":\"field\",\"field\":\"t80\"},\"size\":{\"type\":\"value\",\"value\":10},\"line_color\":{\"type\":\"value\",\"value\":\"red\"},\"line_alpha\":{\"type\":\"value\",\"value\":0.1},\"fill_color\":{\"type\":\"value\",\"value\":\"red\"},\"fill_alpha\":{\"type\":\"value\",\"value\":0.1},\"hatch_color\":{\"type\":\"value\",\"value\":\"red\"},\"hatch_alpha\":{\"type\":\"value\",\"value\":0.1}}},\"muted_glyph\":{\"type\":\"object\",\"name\":\"Scatter\",\"id\":\"p1068\",\"attributes\":{\"x\":{\"type\":\"field\",\"field\":\"graden\"},\"y\":{\"type\":\"field\",\"field\":\"t80\"},\"size\":{\"type\":\"value\",\"value\":10},\"line_color\":{\"type\":\"value\",\"value\":\"red\"},\"line_alpha\":{\"type\":\"value\",\"value\":0.2},\"fill_color\":{\"type\":\"value\",\"value\":\"red\"},\"fill_alpha\":{\"type\":\"value\",\"value\":0.2},\"hatch_color\":{\"type\":\"value\",\"value\":\"red\"},\"hatch_alpha\":{\"type\":\"value\",\"value\":0.2}}}}}],\"toolbar\":{\"type\":\"object\",\"name\":\"Toolbar\",\"id\":\"p1014\",\"attributes\":{\"tools\":[{\"type\":\"object\",\"name\":\"PanTool\",\"id\":\"p1037\"},{\"type\":\"object\",\"name\":\"WheelZoomTool\",\"id\":\"p1038\"},{\"type\":\"object\",\"name\":\"BoxZoomTool\",\"id\":\"p1039\",\"attributes\":{\"overlay\":{\"type\":\"object\",\"name\":\"BoxAnnotation\",\"id\":\"p1040\",\"attributes\":{\"syncable\":false,\"level\":\"overlay\",\"visible\":false,\"left_units\":\"canvas\",\"right_units\":\"canvas\",\"bottom_units\":\"canvas\",\"top_units\":\"canvas\",\"line_color\":\"black\",\"line_alpha\":1.0,\"line_width\":2,\"line_dash\":[4,4],\"fill_color\":\"lightgrey\",\"fill_alpha\":0.5}}}},{\"type\":\"object\",\"name\":\"SaveTool\",\"id\":\"p1041\"},{\"type\":\"object\",\"name\":\"ResetTool\",\"id\":\"p1042\"},{\"type\":\"object\",\"name\":\"HelpTool\",\"id\":\"p1043\"},{\"type\":\"object\",\"name\":\"HoverTool\",\"id\":\"p1073\",\"attributes\":{\"renderers\":\"auto\",\"tooltips\":[[\"Test ID\",\"@testID\"],[\"Video ID\",\"@vidID\"]]}}]}},\"left\":[{\"type\":\"object\",\"name\":\"LinearAxis\",\"id\":\"p1030\",\"attributes\":{\"ticker\":{\"type\":\"object\",\"name\":\"BasicTicker\",\"id\":\"p1031\",\"attributes\":{\"mantissas\":[1,2,5]}},\"formatter\":{\"type\":\"object\",\"name\":\"BasicTickFormatter\",\"id\":\"p1032\"},\"axis_label\":\"Time\",\"major_label_policy\":{\"type\":\"object\",\"name\":\"AllLabels\",\"id\":\"p1033\"}}}],\"below\":[{\"type\":\"object\",\"name\":\"LinearAxis\",\"id\":\"p1023\",\"attributes\":{\"ticker\":{\"type\":\"object\",\"name\":\"BasicTicker\",\"id\":\"p1024\",\"attributes\":{\"mantissas\":[1,2,5]}},\"formatter\":{\"type\":\"object\",\"name\":\"BasicTickFormatter\",\"id\":\"p1025\"},\"axis_label\":\"graden\",\"major_label_policy\":{\"type\":\"object\",\"name\":\"AllLabels\",\"id\":\"p1026\"}}}],\"center\":[{\"type\":\"object\",\"name\":\"Grid\",\"id\":\"p1029\",\"attributes\":{\"axis\":{\"id\":\"p1023\"}}},{\"type\":\"object\",\"name\":\"Grid\",\"id\":\"p1036\",\"attributes\":{\"dimension\":1,\"axis\":{\"id\":\"p1030\"}}},{\"type\":\"object\",\"name\":\"Legend\",\"id\":\"p1061\",\"attributes\":{\"items\":[{\"type\":\"object\",\"name\":\"LegendItem\",\"id\":\"p1062\",\"attributes\":{\"label\":{\"type\":\"value\",\"value\":\"t40\"},\"renderers\":[{\"id\":\"p1058\"}]}},{\"type\":\"object\",\"name\":\"LegendItem\",\"id\":\"p1072\",\"attributes\":{\"label\":{\"type\":\"value\",\"value\":\"t80\"},\"renderers\":[{\"id\":\"p1069\"}]}}]}}]}}],\"callbacks\":{\"type\":\"map\"}}};\n",
       "  const render_items = [{\"docid\":\"94a9e38b-f96a-4564-ae71-2aefba40bb6e\",\"roots\":{\"p1005\":\"923bc527-9b1f-42c0-809b-628a148db680\"},\"root_ids\":[\"p1005\"]}];\n",
       "  root.Bokeh.embed.embed_items_notebook(docs_json, render_items);\n",
       "  }\n",
       "  if (root.Bokeh !== undefined) {\n",
       "    embed_document(root);\n",
       "  } else {\n",
       "    let attempts = 0;\n",
       "    const timer = setInterval(function(root) {\n",
       "      if (root.Bokeh !== undefined) {\n",
       "        clearInterval(timer);\n",
       "        embed_document(root);\n",
       "      } else {\n",
       "        attempts++;\n",
       "        if (attempts > 100) {\n",
       "          clearInterval(timer);\n",
       "          console.log(\"Bokeh: ERROR: Unable to run BokehJS code because BokehJS library is missing\");\n",
       "        }\n",
       "      }\n",
       "    }, 10, root)\n",
       "  }\n",
       "})(window);"
      ],
      "application/vnd.bokehjs_exec.v0+json": ""
     },
     "metadata": {
      "application/vnd.bokehjs_exec.v0+json": {
       "id": "p1005"
      }
     },
     "output_type": "display_data"
    }
   ],
   "source": [
    "output1 = widgets.Output()\n",
    "with output1:\n",
    "    display(IFrame(SHEET + '/pubhtml?gid=0&amp;single=true&amp;widget=true&amp;headers=false', width=1000, height=350))\n",
    "    print(\"sheet html: \"+SHEET+\"/pubhtml\")\n",
    "    print(\"share link: \"+\"https://docs.google.com/spreadsheets/d/1kdDTN5RdBIJVKG44c6-xtkCdsJTEenp-Y1DXJ6M3_lI/edit?usp=sharing\")\n",
    "output2 = widgets.Output()\n",
    "with output2:\n",
    "    print(df.dtypes)\n",
    "\n",
    "output3 = widgets.Output()\n",
    "with output3:\n",
    "    display(df)\n",
    "\n",
    "output4 = VBox(children=[video_interactive])\n",
    "\n",
    "#tabs tonen\n",
    "tab = widgets.Tab(children=[output1, output2, output3, output4])\n",
    "tab.set_title(0, 'sheet embed')\n",
    "tab.set_title(1, 'Data Types')\n",
    "tab.set_title(2, 'Data Frame')\n",
    "tab.set_title(3, 'data source videos')\n",
    "display(tab)\n",
    "DfPlot(df)"
   ]
  },
  {
   "cell_type": "markdown",
   "id": "4fe2e441-4d9a-4840-b9dc-c5a644b79c92",
   "metadata": {
    "tags": []
   },
   "source": [
    "## resultaten"
   ]
  },
  {
   "cell_type": "code",
   "execution_count": 7,
   "id": "759a7591-f639-420c-816b-0f136c988974",
   "metadata": {
    "tags": []
   },
   "outputs": [
    {
     "data": {
      "application/vnd.jupyter.widget-view+json": {
       "model_id": "236e78499c014f2e96a22b0d4e65f8ed",
       "version_major": 2,
       "version_minor": 0
      },
      "text/plain": [
       "Tab(children=(Output(), Output(), Output()), selected_index=0, titles=('plot fit', 'results', 'sin fit'))"
      ]
     },
     "metadata": {},
     "output_type": "display_data"
    }
   ],
   "source": [
    "XData = df['graden'].to_numpy()\n",
    "YData = df['t40'].to_numpy()\n",
    "OptimalParameter, CovMartix = Fit_Exponent(XData, YData)\n",
    "\n",
    "plotfit1tab = widgets.Output()\n",
    "with plotfit1tab:\n",
    "    Plot_FitExponent(OptimalParameter, CovMartix, XData, YData)\n",
    "    \n",
    "fit1latexresultstab = widgets.Output()\n",
    "with fit1latexresultstab:\n",
    "    Tex_FitExponent(OptimalParameter, CovMartix, XData, YData)\n",
    "    \n",
    "plotsinfittab = widgets.Output()\n",
    "with plotsinfittab:\n",
    "    Plot_FitSin(OptimalParameter, CovMartix, XData, YData)\n",
    "    \n",
    "#tabs tonen\n",
    "tab = widgets.Tab(children=[plotfit1tab, fit1latexresultstab, plotsinfittab])\n",
    "tab.set_title(0, 'plot fit')\n",
    "tab.set_title(1, 'results')\n",
    "tab.set_title(2, 'sin fit')\n",
    "display(tab)"
   ]
  },
  {
   "cell_type": "code",
   "execution_count": 8,
   "id": "c0a25c4f-582d-4b6a-ad77-8ae475aea4fc",
   "metadata": {
    "tags": []
   },
   "outputs": [
    {
     "data": {
      "image/png": "[encoded data removed]",
      "text/plain": [
       "<Figure size 640x480 with 2 Axes>"
      ]
     },
     "metadata": {},
     "output_type": "display_data"
    }
   ],
   "source": [
    "distance_between_points = 10.0\n",
    "distances = [i * distance_between_points for i in range(9)]\n",
    "\n",
    "for _, row in df.iloc[:3].iterrows():\n",
    "    times = row[['t0', 't10', 't20', 't30', 't40', 't50', 't60', 't70', 't80']]\n",
    "    plt.plot(distances, times, label = str(row['testID']))\n",
    "#other angles\n",
    "\n",
    "num_rows = len(df['testID'])\n",
    "colors = np.linspace(0, 1, num_rows)\n",
    "\n",
    "# Create a scatter plot with gradually colored points\n",
    "plt.scatter([40 for _ in range(num_rows)], df['t40'], c=colors, cmap='RdYlBu')\n",
    "plt.scatter([80 for _ in range(num_rows)], df['t80'], c=colors, cmap='RdYlBu')\n",
    "\n",
    "# Add a colorbar to show the mapping of colors to values\n",
    "cbar = plt.colorbar()\n",
    "cbar.ax.invert_yaxis()  # Invert the colorbar\n",
    "cbar.set_ticks([]) \n",
    "\n",
    "# Add axis labels and a title to the plot\n",
    "plt.xlabel('Afstand(cm)')\n",
    "plt.ylabel('Tijd(s)')\n",
    "plt.show()"
   ]
  }
 ],
 "metadata": {
  "kernelspec": {
   "display_name": "Python 3 (ipykernel)",
   "language": "python",
   "name": "python3"
  },
  "language_info": {
   "codemirror_mode": {
    "name": "ipython",
    "version": 3
   },
   "file_extension": ".py",
   "mimetype": "text/x-python",
   "name": "python",
   "nbconvert_exporter": "python",
   "pygments_lexer": "ipython3",
   "version": "3.10.9"
  }
 },
 "nbformat": 4,
 "nbformat_minor": 5
}
